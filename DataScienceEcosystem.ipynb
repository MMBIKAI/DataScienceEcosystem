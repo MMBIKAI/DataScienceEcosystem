{
 "cells": [
  {
   "cell_type": "markdown",
   "id": "24235ece-b241-4fb7-bef3-7514006de4e9",
   "metadata": {},
   "source": [
    "# Data Science Tools and Ecosystem"
   ]
  },
  {
   "cell_type": "markdown",
   "id": "56a854db-da4d-45ed-8226-81dad67b33ea",
   "metadata": {},
   "source": [
    "## Author\n",
    "\n",
    "I am Mohanad Bikai, a skilled Engineer in Research and Development at EESC ESTIA in Bayonne, France. My expertise lies in digital twin research and decision support for energy-efficient hospital renovations. With a background in optimization algorithms and modeling using MBSE and SysML, I have a proven track record of contributing to innovative projects.\n",
    "\n",
    "Prior to my current role, I gained valuable experience through internships at ZIEMEX and Emirates Lighting Factory, where I honed my skills in design and production management. These experiences have equipped me with a strong foundation in engineering principles and practical problem-solving abilities.\n",
    "\n",
    "I hold a Master's degree from ENSAM – Arts et Métiers in Lille, France, where I specialized in integrating knowledge into mechanical production. Additionally, I earned Bachelor's and Master's degrees in Mechanical Engineering from the Arab University of Beirut, Tripoli, Lebanon.\n",
    "\n",
    "My journey in engineering has fueled my passion for leveraging technology to drive positive change. I am committed to advancing my skills in data science to further contribute to innovative solutions that address real-world challenges."
   ]
  },
  {
   "cell_type": "markdown",
   "id": "376f97f2-777f-4cea-a313-0f436a60956f",
   "metadata": {},
   "source": [
    "# Introduction\n",
    "\n",
    "In this notebook, Data Science Tools and Ecosystem are summarized."
   ]
  },
  {
   "cell_type": "markdown",
   "id": "4fc6c173-0b90-4700-8288-82cf0bbd1d65",
   "metadata": {},
   "source": [
    "## Objectives:\n",
    "\n",
    "* List popular languages for Data Science\n",
    "* List of Data Science libraries\n",
    "* Data Science Tools Table\n",
    "* Introduction to arithmatic expression examples"
   ]
  },
  {
   "cell_type": "markdown",
   "id": "008dd63e-b808-423d-8bbe-79a5b95948c1",
   "metadata": {},
   "source": [
    "## List of Data Science Languages\n",
    "\n",
    "Some of the popular languages that Data Scientists use are:(ordered)\n",
    "\n",
    "1. Python\n",
    "2. R\n",
    "3. SQL\n",
    "4. JavaScript\n",
    "5. Java\n",
    "6. C++\n",
    "7. Julia\n",
    "8. Scala"
   ]
  },
  {
   "cell_type": "markdown",
   "id": "cec50097-5991-439e-827f-5e1bd3873a5c",
   "metadata": {},
   "source": [
    "## List of Data Science libraries\n",
    "\n",
    "Some of the commonly used libraries used by Data Scientists include:\n",
    "\n",
    "1. NumPy: Fundamental package for scientific computing with Python, providing support for arrays, matrices, and mathematical functions.\n",
    "2. Pandas: Data manipulation and analysis library, offering data structures like DataFrame for easy handling of structured data.\n",
    "3. Matplotlib: Comprehensive plotting library for creating static, interactive, and animated visualizations in Python.\n",
    "4. Seaborn: Data visualization library based on Matplotlib, providing a high-level interface for drawing attractive statistical graphics.\n",
    "5. Scikit-learn: Simple and efficient tools for data mining and data analysis, including algorithms for classification, regression, clustering, and dimensionality reduction.\n",
    "6. TensorFlow / PyTorch: Deep learning frameworks for building and training neural networks, offering flexibility and scalability for various machine learning tasks.\n",
    "7. NLTK (Natural Language Toolkit): Library for natural language processing (NLP), offering tools for tokenization, stemming, tagging, parsing, and more.\n",
    "8. dplyr: A grammar of data manipulation, providing a set of functions for manipulating datasets in a structured and intuitive way.\n",
    "9. ggplot2: A powerful data visualization package based on the grammar of graphics, allowing for the creation of elegant and customizable plots.\n",
    "10. caret: The Classification and Regression Training package, offering a unified interface for training and evaluating predictive models across various machine learning algorithms."
   ]
  },
  {
   "cell_type": "markdown",
   "id": "bef06ab8-979b-41e5-a13f-f82418763435",
   "metadata": {},
   "source": [
    "## Data Science Tools Table\n",
    "\n",
    "|Data Science Tools|\n",
    "|------------------|\n",
    "|Jupyter Notebooks: provide an interactive computing environment that allows users to create and share documents containing live code, equations, visualizations, and narrative text. It supports various programming languages, including Python, R, and Julia, making it a versatile choice for data science projects.|\n",
    "|RStudio: s an integrated development environment (IDE) specifically designed for R programming. It offers features such as syntax highlighting, code completion, debugging tools, and built-in support for R packages. RStudio provides a user-friendly interface for data analysis, visualization, and reporting using R.|\n",
    "|Spyder: is an open-source IDE for scientific computing and data analysis with Python. It offers features similar to other IDEs, such as syntax highlighting, code completion, variable explorer, and integrated plotting capabilities. Spyder is well-suited for data science tasks, including data manipulation, analysis, and visualization, and it integrates seamlessly with popular scientific libraries like NumPy, Pandas, and Matplotlib.|"
   ]
  },
  {
   "cell_type": "markdown",
   "id": "3b44e615-44fc-421c-be49-f29a75ccfa8c",
   "metadata": {},
   "source": [
    "## introduction to arithmetic expression examples\n",
    "\n",
    "### Below are a few examples of evaluating arithmetic expressions in Python"
   ]
  },
  {
   "cell_type": "code",
   "execution_count": 2,
   "id": "0af3fac5-83d0-4375-88fe-2acd67c8189a",
   "metadata": {
    "tags": []
   },
   "outputs": [
    {
     "data": {
      "text/plain": [
       "17"
      ]
     },
     "execution_count": 2,
     "metadata": {},
     "output_type": "execute_result"
    }
   ],
   "source": [
    "# This a simple arithmetic expression to mutiply then add integers\n",
    "(3*4)+5"
   ]
  },
  {
   "cell_type": "code",
   "execution_count": 3,
   "id": "3503c0f0-809d-4245-bcef-719889aef905",
   "metadata": {
    "tags": []
   },
   "outputs": [
    {
     "data": {
      "text/plain": [
       "3.3333333333333335"
      ]
     },
     "execution_count": 3,
     "metadata": {},
     "output_type": "execute_result"
    }
   ],
   "source": [
    "# This will convert 200 minutes to hours by diving by 60\n",
    "200 / 60"
   ]
  },
  {
   "cell_type": "code",
   "execution_count": null,
   "id": "9968ecea-7d53-4d61-9f2b-2acf166d078f",
   "metadata": {},
   "outputs": [],
   "source": []
  }
 ],
 "metadata": {
  "kernelspec": {
   "display_name": "Python",
   "language": "python",
   "name": "conda-env-python-py"
  },
  "language_info": {
   "codemirror_mode": {
    "name": "ipython",
    "version": 3
   },
   "file_extension": ".py",
   "mimetype": "text/x-python",
   "name": "python",
   "nbconvert_exporter": "python",
   "pygments_lexer": "ipython3",
   "version": "3.7.12"
  }
 },
 "nbformat": 4,
 "nbformat_minor": 5
}
